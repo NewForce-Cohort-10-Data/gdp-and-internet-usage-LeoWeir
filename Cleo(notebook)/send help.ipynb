{
 "cells": [
  {
   "cell_type": "code",
   "execution_count": 1,
   "id": "85358a1e-7b1a-4d00-b3cd-5dc49e1bcc64",
   "metadata": {},
   "outputs": [],
   "source": [
    "import pandas as pd\n",
    "import numpy as np\n",
    "import matplotlib.pyplot as plt\n",
    "import seaborn as sns"
   ]
  },
  {
   "cell_type": "code",
   "execution_count": 2,
   "id": "f247e806-cafc-49a5-84f7-af64172c60d4",
   "metadata": {},
   "outputs": [],
   "source": [
    "import os"
   ]
  },
  {
   "cell_type": "code",
   "execution_count": 3,
   "id": "ee9c14fc-64bc-4e2d-9013-083014e88832",
   "metadata": {},
   "outputs": [
    {
     "data": {
      "text/plain": [
       "'C:\\\\Users\\\\user\\\\OneDrive - Mountwest Community & Technical College\\\\Desktop\\\\Python SS snake\\\\proojects\\\\gdp-and-internet-usage-LeoWeir\\\\Cleo(notebook)'"
      ]
     },
     "execution_count": 3,
     "metadata": {},
     "output_type": "execute_result"
    }
   ],
   "source": [
    "os.getcwd()"
   ]
  },
  {
   "cell_type": "code",
   "execution_count": null,
   "id": "3bb9bc26-8ab3-4642-9af0-3db6d02e380b",
   "metadata": {},
   "outputs": [],
   "source": [
    "internet_usage = pd.read_csv(\"internet_use.csv\", na_values=['0']) "
   ]
  },
  {
   "cell_type": "code",
   "execution_count": 38,
   "id": "91606dde-2bb3-4883-aed9-30229081ae3c",
   "metadata": {},
   "outputs": [
    {
     "ename": "FileNotFoundError",
     "evalue": "[Errno 2] No such file or directory: 'internet_use.csv'",
     "output_type": "error",
     "traceback": [
      "\u001b[1;31m---------------------------------------------------------------------------\u001b[0m",
      "\u001b[1;31mFileNotFoundError\u001b[0m                         Traceback (most recent call last)",
      "Cell \u001b[1;32mIn[38], line 1\u001b[0m\n\u001b[1;32m----> 1\u001b[0m internet_usage\u001b[38;5;241m=\u001b[39m pd\u001b[38;5;241m.\u001b[39mread_csv(\u001b[38;5;124m\"\u001b[39m\u001b[38;5;124minternet_use.csv\u001b[39m\u001b[38;5;124m\"\u001b[39m, na_values\u001b[38;5;241m=\u001b[39m[\u001b[38;5;124m'\u001b[39m\u001b[38;5;124m'\u001b[39m])\n",
      "File \u001b[1;32m~\\anaconda3\\Lib\\site-packages\\pandas\\io\\parsers\\readers.py:1026\u001b[0m, in \u001b[0;36mread_csv\u001b[1;34m(filepath_or_buffer, sep, delimiter, header, names, index_col, usecols, dtype, engine, converters, true_values, false_values, skipinitialspace, skiprows, skipfooter, nrows, na_values, keep_default_na, na_filter, verbose, skip_blank_lines, parse_dates, infer_datetime_format, keep_date_col, date_parser, date_format, dayfirst, cache_dates, iterator, chunksize, compression, thousands, decimal, lineterminator, quotechar, quoting, doublequote, escapechar, comment, encoding, encoding_errors, dialect, on_bad_lines, delim_whitespace, low_memory, memory_map, float_precision, storage_options, dtype_backend)\u001b[0m\n\u001b[0;32m   1013\u001b[0m kwds_defaults \u001b[38;5;241m=\u001b[39m _refine_defaults_read(\n\u001b[0;32m   1014\u001b[0m     dialect,\n\u001b[0;32m   1015\u001b[0m     delimiter,\n\u001b[1;32m   (...)\u001b[0m\n\u001b[0;32m   1022\u001b[0m     dtype_backend\u001b[38;5;241m=\u001b[39mdtype_backend,\n\u001b[0;32m   1023\u001b[0m )\n\u001b[0;32m   1024\u001b[0m kwds\u001b[38;5;241m.\u001b[39mupdate(kwds_defaults)\n\u001b[1;32m-> 1026\u001b[0m \u001b[38;5;28;01mreturn\u001b[39;00m _read(filepath_or_buffer, kwds)\n",
      "File \u001b[1;32m~\\anaconda3\\Lib\\site-packages\\pandas\\io\\parsers\\readers.py:620\u001b[0m, in \u001b[0;36m_read\u001b[1;34m(filepath_or_buffer, kwds)\u001b[0m\n\u001b[0;32m    617\u001b[0m _validate_names(kwds\u001b[38;5;241m.\u001b[39mget(\u001b[38;5;124m\"\u001b[39m\u001b[38;5;124mnames\u001b[39m\u001b[38;5;124m\"\u001b[39m, \u001b[38;5;28;01mNone\u001b[39;00m))\n\u001b[0;32m    619\u001b[0m \u001b[38;5;66;03m# Create the parser.\u001b[39;00m\n\u001b[1;32m--> 620\u001b[0m parser \u001b[38;5;241m=\u001b[39m TextFileReader(filepath_or_buffer, \u001b[38;5;241m*\u001b[39m\u001b[38;5;241m*\u001b[39mkwds)\n\u001b[0;32m    622\u001b[0m \u001b[38;5;28;01mif\u001b[39;00m chunksize \u001b[38;5;129;01mor\u001b[39;00m iterator:\n\u001b[0;32m    623\u001b[0m     \u001b[38;5;28;01mreturn\u001b[39;00m parser\n",
      "File \u001b[1;32m~\\anaconda3\\Lib\\site-packages\\pandas\\io\\parsers\\readers.py:1620\u001b[0m, in \u001b[0;36mTextFileReader.__init__\u001b[1;34m(self, f, engine, **kwds)\u001b[0m\n\u001b[0;32m   1617\u001b[0m     \u001b[38;5;28mself\u001b[39m\u001b[38;5;241m.\u001b[39moptions[\u001b[38;5;124m\"\u001b[39m\u001b[38;5;124mhas_index_names\u001b[39m\u001b[38;5;124m\"\u001b[39m] \u001b[38;5;241m=\u001b[39m kwds[\u001b[38;5;124m\"\u001b[39m\u001b[38;5;124mhas_index_names\u001b[39m\u001b[38;5;124m\"\u001b[39m]\n\u001b[0;32m   1619\u001b[0m \u001b[38;5;28mself\u001b[39m\u001b[38;5;241m.\u001b[39mhandles: IOHandles \u001b[38;5;241m|\u001b[39m \u001b[38;5;28;01mNone\u001b[39;00m \u001b[38;5;241m=\u001b[39m \u001b[38;5;28;01mNone\u001b[39;00m\n\u001b[1;32m-> 1620\u001b[0m \u001b[38;5;28mself\u001b[39m\u001b[38;5;241m.\u001b[39m_engine \u001b[38;5;241m=\u001b[39m \u001b[38;5;28mself\u001b[39m\u001b[38;5;241m.\u001b[39m_make_engine(f, \u001b[38;5;28mself\u001b[39m\u001b[38;5;241m.\u001b[39mengine)\n",
      "File \u001b[1;32m~\\anaconda3\\Lib\\site-packages\\pandas\\io\\parsers\\readers.py:1880\u001b[0m, in \u001b[0;36mTextFileReader._make_engine\u001b[1;34m(self, f, engine)\u001b[0m\n\u001b[0;32m   1878\u001b[0m     \u001b[38;5;28;01mif\u001b[39;00m \u001b[38;5;124m\"\u001b[39m\u001b[38;5;124mb\u001b[39m\u001b[38;5;124m\"\u001b[39m \u001b[38;5;129;01mnot\u001b[39;00m \u001b[38;5;129;01min\u001b[39;00m mode:\n\u001b[0;32m   1879\u001b[0m         mode \u001b[38;5;241m+\u001b[39m\u001b[38;5;241m=\u001b[39m \u001b[38;5;124m\"\u001b[39m\u001b[38;5;124mb\u001b[39m\u001b[38;5;124m\"\u001b[39m\n\u001b[1;32m-> 1880\u001b[0m \u001b[38;5;28mself\u001b[39m\u001b[38;5;241m.\u001b[39mhandles \u001b[38;5;241m=\u001b[39m get_handle(\n\u001b[0;32m   1881\u001b[0m     f,\n\u001b[0;32m   1882\u001b[0m     mode,\n\u001b[0;32m   1883\u001b[0m     encoding\u001b[38;5;241m=\u001b[39m\u001b[38;5;28mself\u001b[39m\u001b[38;5;241m.\u001b[39moptions\u001b[38;5;241m.\u001b[39mget(\u001b[38;5;124m\"\u001b[39m\u001b[38;5;124mencoding\u001b[39m\u001b[38;5;124m\"\u001b[39m, \u001b[38;5;28;01mNone\u001b[39;00m),\n\u001b[0;32m   1884\u001b[0m     compression\u001b[38;5;241m=\u001b[39m\u001b[38;5;28mself\u001b[39m\u001b[38;5;241m.\u001b[39moptions\u001b[38;5;241m.\u001b[39mget(\u001b[38;5;124m\"\u001b[39m\u001b[38;5;124mcompression\u001b[39m\u001b[38;5;124m\"\u001b[39m, \u001b[38;5;28;01mNone\u001b[39;00m),\n\u001b[0;32m   1885\u001b[0m     memory_map\u001b[38;5;241m=\u001b[39m\u001b[38;5;28mself\u001b[39m\u001b[38;5;241m.\u001b[39moptions\u001b[38;5;241m.\u001b[39mget(\u001b[38;5;124m\"\u001b[39m\u001b[38;5;124mmemory_map\u001b[39m\u001b[38;5;124m\"\u001b[39m, \u001b[38;5;28;01mFalse\u001b[39;00m),\n\u001b[0;32m   1886\u001b[0m     is_text\u001b[38;5;241m=\u001b[39mis_text,\n\u001b[0;32m   1887\u001b[0m     errors\u001b[38;5;241m=\u001b[39m\u001b[38;5;28mself\u001b[39m\u001b[38;5;241m.\u001b[39moptions\u001b[38;5;241m.\u001b[39mget(\u001b[38;5;124m\"\u001b[39m\u001b[38;5;124mencoding_errors\u001b[39m\u001b[38;5;124m\"\u001b[39m, \u001b[38;5;124m\"\u001b[39m\u001b[38;5;124mstrict\u001b[39m\u001b[38;5;124m\"\u001b[39m),\n\u001b[0;32m   1888\u001b[0m     storage_options\u001b[38;5;241m=\u001b[39m\u001b[38;5;28mself\u001b[39m\u001b[38;5;241m.\u001b[39moptions\u001b[38;5;241m.\u001b[39mget(\u001b[38;5;124m\"\u001b[39m\u001b[38;5;124mstorage_options\u001b[39m\u001b[38;5;124m\"\u001b[39m, \u001b[38;5;28;01mNone\u001b[39;00m),\n\u001b[0;32m   1889\u001b[0m )\n\u001b[0;32m   1890\u001b[0m \u001b[38;5;28;01massert\u001b[39;00m \u001b[38;5;28mself\u001b[39m\u001b[38;5;241m.\u001b[39mhandles \u001b[38;5;129;01mis\u001b[39;00m \u001b[38;5;129;01mnot\u001b[39;00m \u001b[38;5;28;01mNone\u001b[39;00m\n\u001b[0;32m   1891\u001b[0m f \u001b[38;5;241m=\u001b[39m \u001b[38;5;28mself\u001b[39m\u001b[38;5;241m.\u001b[39mhandles\u001b[38;5;241m.\u001b[39mhandle\n",
      "File \u001b[1;32m~\\anaconda3\\Lib\\site-packages\\pandas\\io\\common.py:873\u001b[0m, in \u001b[0;36mget_handle\u001b[1;34m(path_or_buf, mode, encoding, compression, memory_map, is_text, errors, storage_options)\u001b[0m\n\u001b[0;32m    868\u001b[0m \u001b[38;5;28;01melif\u001b[39;00m \u001b[38;5;28misinstance\u001b[39m(handle, \u001b[38;5;28mstr\u001b[39m):\n\u001b[0;32m    869\u001b[0m     \u001b[38;5;66;03m# Check whether the filename is to be opened in binary mode.\u001b[39;00m\n\u001b[0;32m    870\u001b[0m     \u001b[38;5;66;03m# Binary mode does not support 'encoding' and 'newline'.\u001b[39;00m\n\u001b[0;32m    871\u001b[0m     \u001b[38;5;28;01mif\u001b[39;00m ioargs\u001b[38;5;241m.\u001b[39mencoding \u001b[38;5;129;01mand\u001b[39;00m \u001b[38;5;124m\"\u001b[39m\u001b[38;5;124mb\u001b[39m\u001b[38;5;124m\"\u001b[39m \u001b[38;5;129;01mnot\u001b[39;00m \u001b[38;5;129;01min\u001b[39;00m ioargs\u001b[38;5;241m.\u001b[39mmode:\n\u001b[0;32m    872\u001b[0m         \u001b[38;5;66;03m# Encoding\u001b[39;00m\n\u001b[1;32m--> 873\u001b[0m         handle \u001b[38;5;241m=\u001b[39m \u001b[38;5;28mopen\u001b[39m(\n\u001b[0;32m    874\u001b[0m             handle,\n\u001b[0;32m    875\u001b[0m             ioargs\u001b[38;5;241m.\u001b[39mmode,\n\u001b[0;32m    876\u001b[0m             encoding\u001b[38;5;241m=\u001b[39mioargs\u001b[38;5;241m.\u001b[39mencoding,\n\u001b[0;32m    877\u001b[0m             errors\u001b[38;5;241m=\u001b[39merrors,\n\u001b[0;32m    878\u001b[0m             newline\u001b[38;5;241m=\u001b[39m\u001b[38;5;124m\"\u001b[39m\u001b[38;5;124m\"\u001b[39m,\n\u001b[0;32m    879\u001b[0m         )\n\u001b[0;32m    880\u001b[0m     \u001b[38;5;28;01melse\u001b[39;00m:\n\u001b[0;32m    881\u001b[0m         \u001b[38;5;66;03m# Binary mode\u001b[39;00m\n\u001b[0;32m    882\u001b[0m         handle \u001b[38;5;241m=\u001b[39m \u001b[38;5;28mopen\u001b[39m(handle, ioargs\u001b[38;5;241m.\u001b[39mmode)\n",
      "\u001b[1;31mFileNotFoundError\u001b[0m: [Errno 2] No such file or directory: 'internet_use.csv'"
     ]
    }
   ],
   "source": [
    "internet_usage= pd.read_csv(\"internet_use.csv\", na_values=[''])"
   ]
  },
  {
   "cell_type": "code",
   "execution_count": null,
   "id": "da10a648-c6c8-40ee-a00d-f5a568c070ca",
   "metadata": {},
   "outputs": [],
   "source": [
    "internet_usage=pd.read_csv(\"../data/internet_use.csv\")"
   ]
  },
  {
   "cell_type": "code",
   "execution_count": null,
   "id": "2792b0a9-765c-4e1c-9178-72d0b619b744",
   "metadata": {},
   "outputs": [],
   "source": []
  },
  {
   "cell_type": "code",
   "execution_count": null,
   "id": "50db84a1-0e62-4e80-b158-764f7f993d2c",
   "metadata": {},
   "outputs": [],
   "source": [
    "gdp_df=pd.read_csv(\"../data/gdp_percapita.csv\")"
   ]
  },
  {
   "cell_type": "code",
   "execution_count": null,
   "id": "fd3653d2-6ebe-4f93-a93c-f97ac57cf065",
   "metadata": {},
   "outputs": [],
   "source": [
    "print(gdp_df.head())"
   ]
  },
  {
   "cell_type": "code",
   "execution_count": null,
   "id": "73940e17-7273-4c9f-85b4-fc48019df697",
   "metadata": {},
   "outputs": [],
   "source": [
    "print(gdp_df.info())"
   ]
  },
  {
   "cell_type": "code",
   "execution_count": null,
   "id": "44c7f020-19f5-4424-8dcd-0c2ddc146e98",
   "metadata": {},
   "outputs": [],
   "source": [
    "gdp_df.shape"
   ]
  },
  {
   "cell_type": "code",
   "execution_count": null,
   "id": "7cdb6fe8-9377-428b-96c5-68be8dbab4cf",
   "metadata": {},
   "outputs": [],
   "source": [
    "gdp_df.columns"
   ]
  },
  {
   "cell_type": "code",
   "execution_count": null,
   "id": "161025d0-561c-4a3f-aff3-ca7de2d33dc6",
   "metadata": {},
   "outputs": [],
   "source": [
    "gdp_df =gdp_df.drop('Value Footnotes',axis=1)"
   ]
  },
  {
   "cell_type": "code",
   "execution_count": null,
   "id": "c25bfcb1-9879-4511-9f07-30a36bedf586",
   "metadata": {},
   "outputs": [],
   "source": [
    "print(gdp_df)"
   ]
  },
  {
   "cell_type": "code",
   "execution_count": null,
   "id": "a72bf46b-311f-4970-87fd-f823be2b880d",
   "metadata": {},
   "outputs": [],
   "source": [
    "gdp_df =gdp_df.rename(columns = { 'Country or Area': 'Country','Value':'GDP_Per_Capita'})"
   ]
  },
  {
   "cell_type": "code",
   "execution_count": null,
   "id": "07c00288-96ac-4d45-aa17-30692fae880d",
   "metadata": {},
   "outputs": [],
   "source": [
    "print(gdp_df)"
   ]
  },
  {
   "cell_type": "code",
   "execution_count": null,
   "id": "4f97c824-d85d-4270-a8f7-67ad11708bdc",
   "metadata": {},
   "outputs": [],
   "source": [
    "gdp_df['Country'].value_counts()"
   ]
  },
  {
   "cell_type": "code",
   "execution_count": null,
   "id": "051613e2-bafa-45bb-ae18-c2ecf986ff1a",
   "metadata": {
    "scrolled": true
   },
   "outputs": [],
   "source": [
    "gdp_df.isnull().sum()"
   ]
  },
  {
   "cell_type": "code",
   "execution_count": null,
   "id": "323f81ef-7d90-47b1-a497-fade7cb4c5bc",
   "metadata": {},
   "outputs": [],
   "source": [
    "gdp_df.groupby('Country')['Year'].count().sort_values()"
   ]
  },
  {
   "cell_type": "code",
   "execution_count": null,
   "id": "b6edbd11-9212-41ab-a277-fa78abd8def4",
   "metadata": {},
   "outputs": [],
   "source": [
    "gdp_df['Year'].value_counts().sort_index"
   ]
  },
  {
   "cell_type": "code",
   "execution_count": null,
   "id": "aa19dd9c-f0ab-47ba-947a-07db0a44f90d",
   "metadata": {},
   "outputs": [],
   "source": [
    "total_years=gdp_df['Year'].value_counts().count()"
   ]
  },
  {
   "cell_type": "code",
   "execution_count": null,
   "id": "22e66d94-d70b-41d8-956a-a282b3090392",
   "metadata": {},
   "outputs": [],
   "source": [
    "print(total_years)"
   ]
  },
  {
   "cell_type": "code",
   "execution_count": null,
   "id": "0609416a-220a-4124-8b22-62310648885e",
   "metadata": {},
   "outputs": [],
   "source": [
    "missing_countries = gdp_df.groupby('Country')['Year'].count().loc[lambda x:x<total_years]"
   ]
  },
  {
   "cell_type": "code",
   "execution_count": null,
   "id": "bc611183-7fa7-4f37-8509-1bc345082d40",
   "metadata": {},
   "outputs": [],
   "source": [
    "print(missing_countries)"
   ]
  },
  {
   "cell_type": "code",
   "execution_count": null,
   "id": "8c55e50c-f80b-44cc-805a-307ad9816e52",
   "metadata": {},
   "outputs": [],
   "source": [
    "gdp_2020=gdp_df[ gdp_df['Year']==2020]"
   ]
  },
  {
   "cell_type": "code",
   "execution_count": null,
   "id": "c9ed3504-b85a-47cf-ac35-760f1929a5dd",
   "metadata": {},
   "outputs": [],
   "source": [
    "gdp_2020.columns"
   ]
  },
  {
   "cell_type": "code",
   "execution_count": null,
   "id": "a2117bc4-c4a7-40a4-afcb-7bf08d5a2a27",
   "metadata": {},
   "outputs": [],
   "source": [
    "sns.histplot(gdp_2020[\"GDP_Per_Capita\"], bins=20, kde=True)\n",
    "plt.title(\"Histogram of GDP Per Capita (2020)\")\n",
    "plt.xlabel(\"GDP Per Capita\")\n",
    "plt.ylabel(\"Frequency\")\n",
    "plt.show()"
   ]
  },
  {
   "cell_type": "code",
   "execution_count": null,
   "id": "79e8f9cd-9819-426d-9256-07870d02ce42",
   "metadata": {},
   "outputs": [],
   "source": [
    "sns.kdeplot(gdp_2020[\"GDP_Per_Capita\"])\n",
    "plt.title(\"Density Plot of GDP Per Capita (2020)\")\n",
    "plt.xlabel(\"GDP Per Capita\")\n",
    "plt.show()"
   ]
  },
  {
   "cell_type": "code",
   "execution_count": null,
   "id": "3ac33270-b37a-4e70-a411-5073aa38dad4",
   "metadata": {},
   "outputs": [],
   "source": [
    "sns.kdeplot(gdp_2020[\"GDP_Per_Capita\"], shade=True)\n",
    "plt.title(\"Density Plot of GDP Per Capita (2020)\")\n",
    "plt.xlabel(\"GDP Per Capita\")\n",
    "plt.show()"
   ]
  },
  {
   "cell_type": "code",
   "execution_count": null,
   "id": "4f21e490-591d-45dd-9b7c-a0d0cdca7501",
   "metadata": {},
   "outputs": [],
   "source": [
    "sns.violinplot(x=gdp_2020[\"GDP_Per_Capita\"])\n",
    "plt.title(\"Violin Plot of GDP Per Capita (2020)\")\n",
    "plt.xlabel(\"GDP Per Capita\")\n",
    "plt.show()"
   ]
  },
  {
   "cell_type": "code",
   "execution_count": null,
   "id": "3791b1e7-0633-4373-959a-7e4be7847b08",
   "metadata": {},
   "outputs": [],
   "source": [
    "ax=sns.violinplot(x=gdp_2020[\"GDP_Per_Capita\"],color='pink')\n",
    "plt.title(\"Violin Plot of GDP Per Capita (2020)\")\n",
    "plt.xlabel(\"GDP Per Capita\")\n",
    "plt.show()"
   ]
  },
  {
   "cell_type": "code",
   "execution_count": null,
   "id": "de436e9e-a2ea-4c85-ab6b-11f892b2c7b2",
   "metadata": {},
   "outputs": [],
   "source": [
    "sns.violinplot(x=gdp_2020[\"GDP_Per_Capita\"],pallet='pinks')"
   ]
  },
  {
   "cell_type": "code",
   "execution_count": null,
   "id": "72934b24-2e34-410b-b4d5-9a56b3bd6aa0",
   "metadata": {},
   "outputs": [],
   "source": [
    "ax= sns.boxplot(x=gdp_2020[\"GDP_Per_Capita\"],boxprops=dict(facecolor='pink'))\n",
    "plt.title(\"Boxplot of GDP Per Capita (2020)\")\n",
    "plt.xlabel(\"GDP Per Capita\")\n",
    "plt.show()"
   ]
  },
  {
   "cell_type": "code",
   "execution_count": null,
   "id": "1f3e8026-ff38-4b41-8906-f816006af33c",
   "metadata": {},
   "outputs": [],
   "source": [
    "sns.boxplot(x=gdp_2020[\"GDP_Per_Capita\"])\n",
    "plt.title(\"Boxplot of GDP Per Capita (2020)\")\n",
    "plt.xlabel(\"GDP Per Capita\")\n",
    "plt.show()"
   ]
  },
  {
   "cell_type": "code",
   "execution_count": null,
   "id": "cd35a246-e01e-47d7-8195-6ecdfa3061e0",
   "metadata": {},
   "outputs": [],
   "source": [
    "median_gdp_2020=gdp_2020['GDP_Per_Capita'].median()"
   ]
  },
  {
   "cell_type": "code",
   "execution_count": null,
   "id": "d88c07a5-a08d-4b95-ad81-08e07b39ba00",
   "metadata": {},
   "outputs": [],
   "source": [
    "print('Median GDP Per Capita in 2020',median_gdp_2020)"
   ]
  },
  {
   "cell_type": "code",
   "execution_count": null,
   "id": "6de86803-3c04-4f64-b973-d6eb0b4ee1e4",
   "metadata": {},
   "outputs": [],
   "source": [
    "gdp_decades=gdp_df[gdp_df['Year'].isin([1990, 2000, 2010, 2020])]"
   ]
  },
  {
   "cell_type": "code",
   "execution_count": null,
   "id": "639b733b-233d-49e9-8420-2aa335fbf20b",
   "metadata": {},
   "outputs": [],
   "source": [
    "print(gdp_decades)"
   ]
  },
  {
   "cell_type": "code",
   "execution_count": null,
   "id": "2c1b1017-210e-433d-84c5-fbe437a141d8",
   "metadata": {},
   "outputs": [],
   "source": [
    "gdp_2020.columns"
   ]
  },
  {
   "cell_type": "code",
   "execution_count": null,
   "id": "7e22bf5a-7799-4ff8-a4fe-ab07cf83179d",
   "metadata": {},
   "outputs": [],
   "source": [
    "sns.boxplot(x=\"Year\", y=\"GDP_Per_Capita\", data=gdp_decades,palette='pink')"
   ]
  },
  {
   "cell_type": "code",
   "execution_count": null,
   "id": "5f4a8d53-bf37-4778-924a-9e6ebcec8fc7",
   "metadata": {},
   "outputs": [],
   "source": [
    "sns.boxplot(x=\"Year\", y=\"GDP_Per_Capita\", data=gdp_decades)\n",
    "plt.title(\"Boxplot of GDP Per Capita Across Decades\")\n",
    "plt.xlabel(\"Year\")\n",
    "plt.ylabel(\"GDP Per Capita\")\n",
    "plt.show()"
   ]
  },
  {
   "cell_type": "code",
   "execution_count": null,
   "id": "d0acfd3e-c1ef-4678-91ad-f224baf36771",
   "metadata": {},
   "outputs": [],
   "source": []
  },
  {
   "cell_type": "code",
   "execution_count": null,
   "id": "1cfa824d-5d99-48a6-8ea3-22ed52734547",
   "metadata": {},
   "outputs": [],
   "source": [
    "gdp_df.columns"
   ]
  },
  {
   "cell_type": "code",
   "execution_count": null,
   "id": "650df303-ec6c-4add-b088-53195bd57a7e",
   "metadata": {},
   "outputs": [],
   "source": [
    "high_gdp=gdp_df[gdp_df['GDP_Per_Capita']>100000]"
   ]
  },
  {
   "cell_type": "code",
   "execution_count": null,
   "id": "db8546eb-5afe-4f23-8156-bcb8d72e25cc",
   "metadata": {},
   "outputs": [],
   "source": [
    "print(high_gdp)"
   ]
  },
  {
   "cell_type": "code",
   "execution_count": null,
   "id": "9c9b2811-b3fe-400a-bfff-0a69e9ec7ed9",
   "metadata": {},
   "outputs": [],
   "source": [
    "max_values = gdp_2020.groupby('Country')['GDP_Per_Capita'].max()"
   ]
  },
  {
   "cell_type": "code",
   "execution_count": null,
   "id": "a6d88a81-24fd-4b4a-8bc8-3e7280cc2d18",
   "metadata": {},
   "outputs": [],
   "source": [
    "max_gdp_value = gdp_2020['GDP_Per_Capita'].max()"
   ]
  },
  {
   "cell_type": "code",
   "execution_count": null,
   "id": "c48e8dc8-3a66-4ebb-8342-ab266677a505",
   "metadata": {},
   "outputs": [],
   "source": [
    "print(max_gdp_value)"
   ]
  },
  {
   "cell_type": "code",
   "execution_count": null,
   "id": "f7fe7426-e6f1-4923-a4c3-ddf88e708606",
   "metadata": {},
   "outputs": [],
   "source": [
    "max_value =gdp_df.groupby('Year')['GDP_Per_Capita'].max()"
   ]
  },
  {
   "cell_type": "code",
   "execution_count": null,
   "id": "d5368800-7b2b-41c2-9ab3-8352d35b760e",
   "metadata": {},
   "outputs": [],
   "source": [
    "print(max_value)"
   ]
  },
  {
   "cell_type": "code",
   "execution_count": null,
   "id": "219fc599-d0c0-401a-a54b-713ba57ac74b",
   "metadata": {},
   "outputs": [],
   "source": [
    "print(max_values)"
   ]
  },
  {
   "cell_type": "code",
   "execution_count": null,
   "id": "1b4a7d27-d8e2-4fae-a39a-1d14376dd8dc",
   "metadata": {},
   "outputs": [],
   "source": [
    "internet_usage=pd.read_csv(\"../data/internet_use.csv\")"
   ]
  },
  {
   "cell_type": "code",
   "execution_count": null,
   "id": "c322baac-01c4-4932-a17f-50816b35e7ad",
   "metadata": {},
   "outputs": [],
   "source": [
    "print(internet_usage)"
   ]
  },
  {
   "cell_type": "code",
   "execution_count": null,
   "id": "a11d5657-9e29-4548-811b-0e91e829010d",
   "metadata": {},
   "outputs": [],
   "source": [
    "internet_usage.columns"
   ]
  },
  {
   "cell_type": "raw",
   "id": "70f4f68c-85ff-4c37-a872-bee9b8e877f1",
   "metadata": {},
   "source": [
    "internet_usage =internet_usage.drop('Value Footnotes',axis=1)"
   ]
  },
  {
   "cell_type": "code",
   "execution_count": null,
   "id": "e4b35cd2-d8b6-406b-9d37-d0359fdffbb8",
   "metadata": {},
   "outputs": [],
   "source": [
    "internet_usage =internet_usage.rename(columns = { 'Country or Area': 'Country','Value':'Internet_Users_Pct'})"
   ]
  },
  {
   "cell_type": "code",
   "execution_count": null,
   "id": "c0c774a1-1466-471b-8dec-c62e636adaf6",
   "metadata": {},
   "outputs": [],
   "source": [
    "print(internet_usage)"
   ]
  },
  {
   "cell_type": "code",
   "execution_count": null,
   "id": "847c2e37-772d-401a-96e3-7c3bf40c7d64",
   "metadata": {},
   "outputs": [],
   "source": [
    "print(type(gdp_df))"
   ]
  },
  {
   "cell_type": "code",
   "execution_count": null,
   "id": "b1345076-84a7-444b-8eaa-e2b4cba9ca24",
   "metadata": {},
   "outputs": [],
   "source": [
    "print(type(internet_usage))"
   ]
  },
  {
   "cell_type": "code",
   "execution_count": null,
   "id": "5d478c9e-9f0d-4f72-afe0-0b3b146e875d",
   "metadata": {},
   "outputs": [],
   "source": [
    "import pandas as pd"
   ]
  },
  {
   "cell_type": "code",
   "execution_count": null,
   "id": "6dd85eae-f0d0-477c-906c-ca0ef147a069",
   "metadata": {},
   "outputs": [],
   "source": [
    "internet_usage=pd.read_csv(\"../data/internet_use.csv\")"
   ]
  },
  {
   "cell_type": "code",
   "execution_count": null,
   "id": "02eba5cc-4da0-4f30-80c2-368e5f3c52b1",
   "metadata": {},
   "outputs": [],
   "source": [
    "print(type(internet_usage))"
   ]
  },
  {
   "cell_type": "code",
   "execution_count": null,
   "id": "ed9ea9f4-e4fc-4ad8-b74f-a04d262c89c2",
   "metadata": {},
   "outputs": [],
   "source": [
    "internet_usage = internet_usage.drop(columns = 'Value Footnotes')\n"
   ]
  },
  {
   "cell_type": "code",
   "execution_count": null,
   "id": "bc606a4a-28ef-49a5-8075-526e1d6c5708",
   "metadata": {},
   "outputs": [],
   "source": [
    "internet_usage.head()"
   ]
  },
  {
   "cell_type": "code",
   "execution_count": null,
   "id": "d148a845-5624-487a-93ba-5adb02203d5e",
   "metadata": {},
   "outputs": [],
   "source": [
    "gdp_df.head()"
   ]
  },
  {
   "cell_type": "code",
   "execution_count": null,
   "id": "e7d3fcab-8fce-4f30-b8e8-8116391ecf53",
   "metadata": {},
   "outputs": [],
   "source": [
    "gdp_and_internet_use = pd.merge(gdp_df,internet_usage, \n",
    "                          on = ['Country','Year'], \n",
    "                               how = 'inner')"
   ]
  },
  {
   "cell_type": "code",
   "execution_count": null,
   "id": "939a8342-13ff-45bb-af94-998d65b85bf0",
   "metadata": {},
   "outputs": [],
   "source": [
    "gdp_and_internet_use = pd.merge(gdp_df,internet_usage, \n",
    "                               left_on = ['Country','Year'], right_on =['Country or Area','Year'], \n",
    "                               how = 'inner')"
   ]
  },
  {
   "cell_type": "code",
   "execution_count": null,
   "id": "d75a2017-d045-4fe0-afbe-5cb55f29c2b8",
   "metadata": {},
   "outputs": [],
   "source": [
    "print(gdp_and_internet_use)"
   ]
  },
  {
   "cell_type": "code",
   "execution_count": null,
   "id": "36812545-3a6d-4179-b181-6e620c998ae2",
   "metadata": {},
   "outputs": [],
   "source": [
    "gdp_and_internet_use.columns"
   ]
  },
  {
   "cell_type": "code",
   "execution_count": null,
   "id": "444bbeaf-fd8d-47af-8f5b-b7d9c9f74457",
   "metadata": {},
   "outputs": [],
   "source": [
    "usage_2014=gdp_and_internet_use[gdp_and_internet_use['Year']==2014]"
   ]
  },
  {
   "cell_type": "code",
   "execution_count": null,
   "id": "bf07cef0-aa55-49f3-9f58-19c1032b2745",
   "metadata": {},
   "outputs": [],
   "source": [
    "top_countries_2014=usage_2014.df.nlargest(3, 'count')"
   ]
  },
  {
   "cell_type": "code",
   "execution_count": null,
   "id": "8381aba8-3eec-443e-af04-f6a2bbb2bb73",
   "metadata": {},
   "outputs": [],
   "source": [
    "sns.boxplot(x=data)  # If your data is a list or array\n",
    "sns.boxplot(x=df['column_name'])  # If your data is in a pandas DataFrame\n",
    "sns.set_theme(style=\"whitegrid\")\n",
    "plt.title('Boxplot with Seaborn')\n",
    "plt.ylabel('Values')\n",
    "plt.show()"
   ]
  },
  {
   "cell_type": "code",
   "execution_count": null,
   "id": "b2c2b2d0-12ff-45b1-a3f4-e0add70d4678",
   "metadata": {},
   "outputs": [],
   "source": [
    "sns.histplot(gdp_2020['GDP_Per_Capita'], bins=20,kdp=True)\n",
    "plt.title('GDP_PER_CAPITA(2020)') \n",
    "plt.xlabel('GDP_Per_Capita')\n",
    "plt.ylabel('Frequency')\n",
    "plt.show()"
   ]
  },
  {
   "cell_type": "code",
   "execution_count": null,
   "id": "53451aac-ba5e-4020-a227-4157dbc0260e",
   "metadata": {},
   "outputs": [],
   "source": [
    "missing_countries = gdp_df.groupby('Country')['Year'].count()filtered_missing_countries = missing_countries[missing_countries<total_years]"
   ]
  },
  {
   "cell_type": "code",
   "execution_count": null,
   "id": "eb566f0a-d3bf-472a-bb00-e708e65ae256",
   "metadata": {},
   "outputs": [],
   "source": [
    "C =C.drop('Value Footnotes',axis=1).df.rename(columns ={Country or Area: Country},{Year: Year},{Value: GDP_Per_Capita})"
   ]
  },
  {
   "cell_type": "code",
   "execution_count": null,
   "id": "80e38557-decb-46e1-8434-c1feac46db4b",
   "metadata": {},
   "outputs": [],
   "source": [
    "CC =gdp_df.drop('Value Footnotes',axis=1).df.rename(columns = {‘Country or Area’: Country},{‘Year’: Year},{‘Value’: GDP_Per_Capita})"
   ]
  },
  {
   "cell_type": "code",
   "execution_count": null,
   "id": "9a056b01-6853-4cd3-9c1c-5b5cd90aa6a2",
   "metadata": {},
   "outputs": [],
   "source": [
    "gdp_df =gdp_df.drop('Value Footnotes',axis=1).df.rename(columns = { 'Country or Area ': Country},C: Year},{ 'Value ': GDP_Per_Capita})"
   ]
  },
  {
   "cell_type": "code",
   "execution_count": null,
   "id": "0edbf7b2-2c76-4e34-83a6-c3b2d5ffddb2",
   "metadata": {},
   "outputs": [],
   "source": [
    "gdp_df =gdp_df.drop('Value Footnotes',axis=1).df.rename(columns = { 'Country or Area ': Country},{ 'Yea ': Year},{ 'Value ': GDP_Per_Capita}).drop('Value Footnotes',axis=1).r"
   ]
  }
 ],
 "metadata": {
  "kernelspec": {
   "display_name": "Python [conda env:base] *",
   "language": "python",
   "name": "conda-base-py"
  },
  "language_info": {
   "codemirror_mode": {
    "name": "ipython",
    "version": 3
   },
   "file_extension": ".py",
   "mimetype": "text/x-python",
   "name": "python",
   "nbconvert_exporter": "python",
   "pygments_lexer": "ipython3",
   "version": "3.12.7"
  }
 },
 "nbformat": 4,
 "nbformat_minor": 5
}
